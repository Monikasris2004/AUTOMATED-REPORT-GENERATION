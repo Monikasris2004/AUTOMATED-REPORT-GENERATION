{
 "cells": [
  {
   "cell_type": "code",
   "execution_count": 1,
   "id": "becd8ebf-c644-4ed3-b3e5-37275e685a4a",
   "metadata": {},
   "outputs": [
    {
     "name": "stdout",
     "output_type": "stream",
     "text": [
      "Requirement already satisfied: fpdf in c:\\users\\dgowt\\appdata\\local\\programs\\python\\python312\\lib\\site-packages (1.7.2)\n"
     ]
    },
    {
     "name": "stderr",
     "output_type": "stream",
     "text": [
      "\n",
      "[notice] A new release of pip is available: 24.0 -> 25.0.1\n",
      "[notice] To update, run: python.exe -m pip install --upgrade pip\n"
     ]
    }
   ],
   "source": [
    "!pip install fpdf"
   ]
  },
  {
   "cell_type": "code",
   "execution_count": 4,
   "id": "9aba2cc0-8146-4c9d-a686-f3c2b4601a9f",
   "metadata": {},
   "outputs": [
    {
     "name": "stdout",
     "output_type": "stream",
     "text": [
      "✅ Report generated: report.pdf\n"
     ]
    },
    {
     "data": {
      "text/html": [
       "\n",
       "        <iframe\n",
       "            width=\"900\"\n",
       "            height=\"300\"\n",
       "            src=\"report.pdf\"\n",
       "            frameborder=\"0\"\n",
       "            allowfullscreen\n",
       "            \n",
       "        ></iframe>\n",
       "        "
      ],
      "text/plain": [
       "<IPython.lib.display.IFrame at 0x20dc8246c90>"
      ]
     },
     "execution_count": 4,
     "metadata": {},
     "output_type": "execute_result"
    }
   ],
   "source": [
    "from fpdf import FPDF\n",
    "import csv\n",
    "from statistics import mean, median\n",
    "\n",
    "# Read data from CSV\n",
    "def read_data(file_path):\n",
    "    with open(file_path, newline='') as csvfile:\n",
    "        reader = csv.DictReader(csvfile)\n",
    "        data = [(row['Name'], int(row['Score'])) for row in reader]\n",
    "    return data\n",
    "\n",
    "# Analyze data\n",
    "def analyze_data(data):\n",
    "    scores = [score for _, score in data]\n",
    "    return {\n",
    "        \"Total Students\": len(scores),\n",
    "        \"Average Score\": mean(scores),\n",
    "        \"Median Score\": median(scores),\n",
    "        \"Highest Score\": max(scores),\n",
    "        \"Lowest Score\": min(scores)\n",
    "    }\n",
    "\n",
    "# Generate PDF report\n",
    "def generate_pdf_report(data, analysis, filename=\"report.pdf\"):\n",
    "    pdf = FPDF()\n",
    "    pdf.add_page()\n",
    "    pdf.set_font(\"Arial\", size=12)\n",
    "\n",
    "    # Title\n",
    "    pdf.set_font(\"Arial\", 'B', 16)\n",
    "    pdf.cell(200, 10, txt=\"Automated Report\", ln=True, align='C')\n",
    "    pdf.ln(10)\n",
    "\n",
    "    # Analysis Summary\n",
    "    pdf.set_font(\"Arial\", 'B', 12)\n",
    "    pdf.cell(200, 10, txt=\"Summary Analysis:\", ln=True)\n",
    "    pdf.set_font(\"Arial\", size=12)\n",
    "    for key, value in analysis.items():\n",
    "        pdf.cell(200, 10, txt=f\"{key}: {value}\", ln=True)\n",
    "    pdf.ln(10)\n",
    "\n",
    "    # Detailed Data\n",
    "    pdf.set_font(\"Arial\", 'B', 12)\n",
    "    pdf.cell(200, 10, txt=\"Detailed Scores:\", ln=True)\n",
    "    pdf.set_font(\"Arial\", size=12)\n",
    "    for name, score in data:\n",
    "        pdf.cell(200, 10, txt=f\"{name}: {score}\", ln=True)\n",
    "\n",
    "    # Save PDF\n",
    "    pdf.output(filename)\n",
    "    print(f\"✅ Report generated: {filename}\")\n",
    "\n",
    "# Run the full process\n",
    "data = read_data(\"data.csv\")\n",
    "analysis = analyze_data(data)\n",
    "generate_pdf_report(data, analysis)\n",
    "from IPython.display import IFrame\n",
    "IFrame(\"report.pdf\", width=900, height=300)"
   ]
  }
 ],
 "metadata": {
  "kernelspec": {
   "display_name": "Python 3 (ipykernel)",
   "language": "python",
   "name": "python3"
  },
  "language_info": {
   "codemirror_mode": {
    "name": "ipython",
    "version": 3
   },
   "file_extension": ".py",
   "mimetype": "text/x-python",
   "name": "python",
   "nbconvert_exporter": "python",
   "pygments_lexer": "ipython3",
   "version": "3.12.7"
  }
 },
 "nbformat": 4,
 "nbformat_minor": 5
}
